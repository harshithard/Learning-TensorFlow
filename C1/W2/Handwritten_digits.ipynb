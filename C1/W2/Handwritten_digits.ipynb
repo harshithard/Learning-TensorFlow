{
 "cells": [
  {
   "cell_type": "markdown",
   "metadata": {
    "colab_type": "text",
    "id": "tOoyQ70H00_s"
   },
   "source": [
    "## Exercise 2\n",
    "In the course you learned how to do classificaiton using Fashion MNIST, a data set containing items of clothing. There's another, similar dataset called MNIST which has items of handwriting -- the digits 0 through 9.\n",
    "\n",
    "Write an MNIST classifier that trains to 99% accuracy or above, and does it without a fixed number of epochs -- i.e. you should stop training once you reach that level of accuracy.\n",
    "\n",
    "Some notes:\n",
    "1. It should succeed in less than 10 epochs, so it is okay to change epochs= to 10, but nothing larger\n",
    "2. When it reaches 99% or greater it should print out the string \"Reached 99% accuracy so cancelling training!\"\n",
    "3. If you add any additional variables, make sure you use the same names as the ones used in the class\n",
    "\n",
    "I've started the code for you below -- how would you finish it? "
   ]
  },
  {
   "cell_type": "code",
   "execution_count": 9,
   "metadata": {},
   "outputs": [],
   "source": [
    "import tensorflow as tf\n",
    "import numpy as np\n",
    "from os import path, getcwd, chdir\n",
    "\n",
    "# DO NOT CHANGE THE LINE BELOW. If you are developing in a local\n",
    "# environment, then grab mnist.npz from the Coursera Jupyter Notebook\n",
    "# and place it inside a local folder and edit the path to that location\n",
    "path = f\"{getcwd()}/../tmp2/mnist.npz\""
   ]
  },
  {
   "cell_type": "code",
   "execution_count": 10,
   "metadata": {},
   "outputs": [],
   "source": [
    "class myCallback(tf.keras.callbacks.Callback):\n",
    "  def on_epoch_end(self, epoch, logs={}):\n",
    "\n",
    "    # Check accuracy\n",
    "    if(logs.get('acc') > 0.99):\n",
    "\n",
    "      # Stop if threshold is met\n",
    "      print(\"\\nreached 99% accuracy so cancelling training!\")\n",
    "      self.model.stop_training = True\n",
    "\n",
    "# Instantiate class\n",
    "callbacks = myCallback()"
   ]
  },
  {
   "cell_type": "code",
   "execution_count": 19,
   "metadata": {
    "colab": {},
    "colab_type": "code",
    "id": "9rvXQGAA0ssC"
   },
   "outputs": [],
   "source": [
    "# GRADED FUNCTION: train_mnist\n",
    "def train_mnist():\n",
    "    # Please write your code only where you are indicated.\n",
    "    # please do not remove # model fitting inline comments.\n",
    "\n",
    "    # YOUR CODE SHOULD START HERE\n",
    "\n",
    "    # YOUR CODE SHOULD END HERE\n",
    "\n",
    "    mnist = tf.keras.datasets.mnist\n",
    "\n",
    "    (x_train, y_train),(x_test, y_test) = mnist.load_data(path=path)\n",
    "   # Normalize the pixel values of the train and test images\n",
    "    print(np.shape(x_train))\n",
    "    x_train  = x_train / 255.0\n",
    "    x_test = x_test / 255.0\n",
    "    model = tf.keras.models.Sequential([tf.keras.layers.Flatten(input_shape = (28,28)), \n",
    "                                        tf.keras.layers.Dense(128, activation=tf.nn.relu),\n",
    "                                        tf.keras.layers.Dense(10, activation=tf.nn.softmax)])\n",
    "\n",
    "    model.compile(optimizer='adam',\n",
    "                  loss='sparse_categorical_crossentropy',\n",
    "                  metrics=['accuracy'])\n",
    "    \n",
    "    # model fitting\n",
    "    history = model.fit(x_train, y_train, epochs=10, callbacks=[callbacks])\n",
    "    # model fitting\n",
    "    return history.epoch, history.history['acc'][-1]"
   ]
  },
  {
   "cell_type": "code",
   "execution_count": 20,
   "metadata": {
    "colab": {},
    "colab_type": "code",
    "id": "9rvXQGAA0ssC"
   },
   "outputs": [
    {
     "name": "stdout",
     "output_type": "stream",
     "text": [
      "(60000, 28, 28)\n",
      "Epoch 1/10\n",
      "59456/60000 [============================>.] - ETA: 0s - loss: 0.4057 - acc: 0.8939{'loss': 0.40414762138525645, 'acc': 0.89433336}\n",
      "60000/60000 [==============================] - 8s 138us/sample - loss: 0.4041 - acc: 0.8943\n",
      "Epoch 2/10\n",
      "59744/60000 [============================>.] - ETA: 0s - loss: 0.1983 - acc: 0.9429{'loss': 0.19824803381661574, 'acc': 0.9429}\n",
      "60000/60000 [==============================] - 8s 136us/sample - loss: 0.1982 - acc: 0.9429\n",
      "Epoch 3/10\n",
      "59680/60000 [============================>.] - ETA: 0s - loss: 0.1441 - acc: 0.9589{'loss': 0.1439474080050985, 'acc': 0.95888335}\n",
      "60000/60000 [==============================] - 8s 137us/sample - loss: 0.1439 - acc: 0.9589\n",
      "Epoch 4/10\n",
      "59552/60000 [============================>.] - ETA: 0s - loss: 0.1121 - acc: 0.9681{'loss': 0.11203350027104218, 'acc': 0.96816665}\n",
      "60000/60000 [==============================] - 8s 137us/sample - loss: 0.1120 - acc: 0.9682\n",
      "Epoch 5/10\n",
      "59808/60000 [============================>.] - ETA: 0s - loss: 0.0895 - acc: 0.9747{'loss': 0.08943032565613587, 'acc': 0.9747}\n",
      "60000/60000 [==============================] - 8s 136us/sample - loss: 0.0894 - acc: 0.9747\n",
      "Epoch 6/10\n",
      "59488/60000 [============================>.] - ETA: 0s - loss: 0.0739 - acc: 0.9791{'loss': 0.07393944968432188, 'acc': 0.97908336}\n",
      "60000/60000 [==============================] - 8s 137us/sample - loss: 0.0739 - acc: 0.9791\n",
      "Epoch 7/10\n",
      "59776/60000 [============================>.] - ETA: 0s - loss: 0.0615 - acc: 0.9826{'loss': 0.06156916073610385, 'acc': 0.98261666}\n",
      "60000/60000 [==============================] - 8s 138us/sample - loss: 0.0616 - acc: 0.9826\n",
      "Epoch 8/10\n",
      "59776/60000 [============================>.] - ETA: 0s - loss: 0.0518 - acc: 0.9856{'loss': 0.051779880765949686, 'acc': 0.9856333}\n",
      "60000/60000 [==============================] - 8s 142us/sample - loss: 0.0518 - acc: 0.9856\n",
      "Epoch 9/10\n",
      "59264/60000 [============================>.] - ETA: 0s - loss: 0.0434 - acc: 0.9881- ETA{'loss': 0.04337034352179617, 'acc': 0.9881167}\n",
      "60000/60000 [==============================] - 8s 132us/sample - loss: 0.0434 - acc: 0.9881\n",
      "Epoch 10/10\n",
      "59840/60000 [============================>.] - ETA: 0s - loss: 0.0369 - acc: 0.9902{'loss': 0.036971439636747046, 'acc': 0.9902167}\n",
      "\n",
      "reached 99% accuracy so cancelling training!\n",
      "60000/60000 [==============================] - 8s 135us/sample - loss: 0.0370 - acc: 0.9902\n"
     ]
    },
    {
     "data": {
      "text/plain": [
       "([0, 1, 2, 3, 4, 5, 6, 7, 8, 9], 0.9902167)"
      ]
     },
     "execution_count": 20,
     "metadata": {},
     "output_type": "execute_result"
    }
   ],
   "source": [
    "train_mnist()"
   ]
  },
  {
   "cell_type": "code",
   "execution_count": 4,
   "metadata": {},
   "outputs": [],
   "source": [
    "# Now click the 'Submit Assignment' button above.\n",
    "# Once that is complete, please run the following two cells to save your work and close the notebook"
   ]
  },
  {
   "cell_type": "code",
   "execution_count": null,
   "metadata": {},
   "outputs": [],
   "source": [
    "%%javascript\n",
    "<!-- Save the notebook -->\n",
    "IPython.notebook.save_checkpoint();"
   ]
  },
  {
   "cell_type": "code",
   "execution_count": null,
   "metadata": {},
   "outputs": [],
   "source": [
    "%%javascript\n",
    "IPython.notebook.session.delete();\n",
    "window.onbeforeunload = null\n",
    "setTimeout(function() { window.close(); }, 1000);"
   ]
  }
 ],
 "metadata": {
  "coursera": {
   "course_slug": "introduction-tensorflow",
   "graded_item_id": "d6dew",
   "launcher_item_id": "FExZ4"
  },
  "kernelspec": {
   "display_name": "Python 3",
   "language": "python",
   "name": "python3"
  },
  "language_info": {
   "codemirror_mode": {
    "name": "ipython",
    "version": 3
   },
   "file_extension": ".py",
   "mimetype": "text/x-python",
   "name": "python",
   "nbconvert_exporter": "python",
   "pygments_lexer": "ipython3",
   "version": "3.6.8"
  }
 },
 "nbformat": 4,
 "nbformat_minor": 1
}
